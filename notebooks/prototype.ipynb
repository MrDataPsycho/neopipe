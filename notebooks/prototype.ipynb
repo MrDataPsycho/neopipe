{
 "cells": [
  {
   "cell_type": "code",
   "execution_count": 7,
   "metadata": {},
   "outputs": [],
   "source": [
    "from neopipe import SyncTask, AsyncTask\n",
    "from neopipe import Ok"
   ]
  },
  {
   "cell_type": "code",
   "execution_count": null,
   "metadata": {},
   "outputs": [],
   "source": [
    "task = SyncTask(lambda x: Ok(x + 1), retries=2)"
   ]
  },
  {
   "cell_type": "code",
   "execution_count": 4,
   "metadata": {},
   "outputs": [
    {
     "name": "stderr",
     "output_type": "stream",
     "text": [
      "2025-04-14 20:43:42 - neopipe.task - INFO - Running sync task <lambda> (attempt 1, UUID: b9043f53-9c80-41b5-a254-43f61eb114b1)\n"
     ]
    },
    {
     "data": {
      "text/plain": [
       "Ok(3)"
      ]
     },
     "execution_count": 4,
     "metadata": {},
     "output_type": "execute_result"
    }
   ],
   "source": [
    "task(2)"
   ]
  },
  {
   "cell_type": "code",
   "execution_count": 5,
   "metadata": {},
   "outputs": [],
   "source": [
    "def raise_exception(x: int):\n",
    "    raise Exception(f\"Exception {x}\")"
   ]
  },
  {
   "cell_type": "code",
   "execution_count": 6,
   "metadata": {},
   "outputs": [
    {
     "name": "stderr",
     "output_type": "stream",
     "text": [
      "2025-04-14 20:44:11 - neopipe.task - INFO - Running sync task raise_exception (attempt 1, UUID: 32eabfdf-a923-47ad-9cb6-570bb216c6ef)\n",
      "2025-04-14 20:44:11 - neopipe.task - ERROR - Sync task raised: Exception 3\n",
      "2025-04-14 20:44:12 - neopipe.task - INFO - Running sync task raise_exception (attempt 2, UUID: 32eabfdf-a923-47ad-9cb6-570bb216c6ef)\n",
      "2025-04-14 20:44:12 - neopipe.task - ERROR - Sync task raised: Exception 3\n"
     ]
    },
    {
     "data": {
      "text/plain": [
       "Err('Task failed after 2 retries: Exception 3')"
      ]
     },
     "execution_count": 6,
     "metadata": {},
     "output_type": "execute_result"
    }
   ],
   "source": [
    "SyncTask(raise_exception, retries=2)(3)"
   ]
  },
  {
   "cell_type": "code",
   "execution_count": 12,
   "metadata": {},
   "outputs": [],
   "source": [
    "async def async_task(x: int):\n",
    "    return Ok(x + 1)"
   ]
  },
  {
   "cell_type": "code",
   "execution_count": 13,
   "metadata": {},
   "outputs": [],
   "source": [
    "async_task = AsyncTask(async_task, retries=2)"
   ]
  },
  {
   "cell_type": "code",
   "execution_count": 14,
   "metadata": {},
   "outputs": [
    {
     "name": "stderr",
     "output_type": "stream",
     "text": [
      "2025-04-14 21:01:34 - neopipe.task - INFO - Running async task async_task (attempt 1, UUID: 40d336f6-8e01-4661-8f71-b4f315a4bfe9)\n"
     ]
    },
    {
     "data": {
      "text/plain": [
       "Ok(6)"
      ]
     },
     "execution_count": 14,
     "metadata": {},
     "output_type": "execute_result"
    }
   ],
   "source": [
    "await async_task(5)"
   ]
  },
  {
   "cell_type": "code",
   "execution_count": 15,
   "metadata": {},
   "outputs": [],
   "source": [
    "from neopipe import AbstractAsyncTask, AbstractSyncTask"
   ]
  },
  {
   "cell_type": "code",
   "execution_count": 16,
   "metadata": {},
   "outputs": [],
   "source": [
    "class MySyncTask(AbstractSyncTask):\n",
    "    def __init__(self, data: list[int], factor: int, retries = 2):\n",
    "        super().__init__(retries)\n",
    "        self._data = data\n",
    "        self._factor = factor\n",
    "\n",
    "    def run(self):\n",
    "        return Ok([x * self._factor for x in self._data])"
   ]
  },
  {
   "cell_type": "code",
   "execution_count": 17,
   "metadata": {},
   "outputs": [
    {
     "name": "stderr",
     "output_type": "stream",
     "text": [
      "2025-04-14 21:07:10 - neopipe.task - INFO - Running sync class task MySyncTask (attempt 1, UUID: 0372aaa1-faf2-4a55-9d12-3e258b7b4fcb)\n"
     ]
    },
    {
     "data": {
      "text/plain": [
       "Ok([2, 4, 6])"
      ]
     },
     "execution_count": 17,
     "metadata": {},
     "output_type": "execute_result"
    }
   ],
   "source": [
    "my_sync_task = MySyncTask([1, 2, 3], 2)\n",
    "my_sync_task()"
   ]
  },
  {
   "cell_type": "code",
   "execution_count": 18,
   "metadata": {},
   "outputs": [],
   "source": [
    "class MyAsyncTask(AbstractAsyncTask):\n",
    "    def __init__(self, data: list[int], factor: int, retries = 2):\n",
    "        super().__init__(retries)\n",
    "        self._data = data\n",
    "        self._factor = factor\n",
    "\n",
    "    async def run(self):\n",
    "        return Ok([x * self._factor for x in self._data])"
   ]
  },
  {
   "cell_type": "code",
   "execution_count": 20,
   "metadata": {},
   "outputs": [
    {
     "name": "stderr",
     "output_type": "stream",
     "text": [
      "2025-04-14 21:08:38 - neopipe.task - INFO - Running async class task MyAsyncTask (attempt 1, UUID: 7636171c-40f4-48dc-b6e3-95a50450569f)\n"
     ]
    }
   ],
   "source": [
    "my_async_task = MyAsyncTask([1, 2, 3], 2)\n",
    "result = await my_async_task()"
   ]
  },
  {
   "cell_type": "code",
   "execution_count": 21,
   "metadata": {},
   "outputs": [
    {
     "data": {
      "text/plain": [
       "[2, 4, 6]"
      ]
     },
     "execution_count": 21,
     "metadata": {},
     "output_type": "execute_result"
    }
   ],
   "source": [
    "result.unwrap()"
   ]
  }
 ],
 "metadata": {
  "kernelspec": {
   "display_name": ".venv",
   "language": "python",
   "name": "python3"
  },
  "language_info": {
   "codemirror_mode": {
    "name": "ipython",
    "version": 3
   },
   "file_extension": ".py",
   "mimetype": "text/x-python",
   "name": "python",
   "nbconvert_exporter": "python",
   "pygments_lexer": "ipython3",
   "version": "3.11.9"
  }
 },
 "nbformat": 4,
 "nbformat_minor": 2
}
