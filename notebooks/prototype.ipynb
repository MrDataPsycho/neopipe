{
 "cells": [
  {
   "cell_type": "code",
   "execution_count": 1,
   "metadata": {},
   "outputs": [],
   "source": [
    "import logging\n",
    "import time\n",
    "from typing import Any, Callable, TypeVar, Union\n",
    "from neopipe.result import Err, Ok, Result\n",
    "from neopipe.task import Task, FunctionTask, ContainerTask, ContainerTaskBase\n",
    "from neopipe.pipeline import Pipeline"
   ]
  },
  {
   "cell_type": "code",
   "execution_count": 2,
   "metadata": {},
   "outputs": [],
   "source": [
    "\n",
    "logger = logging.getLogger(__name__)\n",
    "\n",
    "T = TypeVar(\"T\")\n",
    "E = TypeVar(\"E\")\n"
   ]
  },
  {
   "cell_type": "code",
   "execution_count": 3,
   "metadata": {},
   "outputs": [
    {
     "name": "stderr",
     "output_type": "stream",
     "text": [
      "2024-07-14 03:26:09 - neopipe.pipeline - INFO - Pipeline started (UUID: 82d1f203-699e-4a4f-8ca8-9df87ddfc7ca)\n",
      "2024-07-14 03:26:09 - neopipe.task - INFO - Function add_task succeeded on attempt 1\n",
      "2024-07-14 03:26:09 - neopipe.pipeline - INFO - 1/2 is complete\n",
      "2024-07-14 03:26:09 - neopipe.task - INFO - Container MultiplyTask succeeded on attempt 1\n",
      "2024-07-14 03:26:09 - neopipe.pipeline - INFO - 2/2 is complete\n"
     ]
    },
    {
     "name": "stdout",
     "output_type": "stream",
     "text": [
      "Callable <function add_task at 0x111018540>\n",
      "9\n"
     ]
    }
   ],
   "source": [
    "# Define a simple function task\n",
    "def simple_task(x: int) -> Result[int, str]:\n",
    "    return Ok(x + 1)\n",
    "\n",
    "\n",
    "# Define a container task class\n",
    "class MultiplyTask(ContainerTaskBase):\n",
    "    def __init__(self, factor: int):\n",
    "        self.factor = factor\n",
    "\n",
    "    def __call__(self, x: int) -> Result[int, str]:\n",
    "        return Ok(x * self.factor)\n",
    "\n",
    "\n",
    "# Create a pipeline\n",
    "pipeline = Pipeline()\n",
    "\n",
    "# Register tasks using the decorator\n",
    "@pipeline.register(retries=2)\n",
    "def add_task(x: int) -> Result[int, str]:\n",
    "    return Ok(x + 2)\n",
    "\n",
    "\n",
    "# Register a container task\n",
    "multiply_task_instance = MultiplyTask(3)\n",
    "pipeline.append_task(ContainerTask(multiply_task_instance))\n",
    "\n",
    "# Run the pipeline\n",
    "result = pipeline.run(1, show_progress=True)\n",
    "print(result.unwrap())  # Should print 9 ((1 + 2) * 3)\n"
   ]
  },
  {
   "cell_type": "code",
   "execution_count": 4,
   "metadata": {},
   "outputs": [
    {
     "name": "stderr",
     "output_type": "stream",
     "text": [
      "2024-07-14 03:26:09 - neopipe.pipeline - INFO - Pipeline started (UUID: c53baeb6-4d6d-4449-984a-3d0a109d0f51)\n",
      "2024-07-14 03:26:09 - neopipe.task - INFO - Container MultiplyTask succeeded on attempt 1\n",
      "2024-07-14 03:26:09 - neopipe.pipeline - INFO - 1/1 is complete\n"
     ]
    },
    {
     "name": "stdout",
     "output_type": "stream",
     "text": [
      "Class <class '__main__.MultiplyTask'>\n",
      "6\n"
     ]
    }
   ],
   "source": [
    "# Define a container task class\n",
    "class MultiplyTask(ContainerTaskBase):\n",
    "    def __init__(self, factor: int):\n",
    "        self.factor = factor\n",
    "\n",
    "    def __call__(self, x: int) -> Result[int, str]:\n",
    "        return Ok(x * self.factor)\n",
    "\n",
    "# Create a pipeline\n",
    "pipeline = Pipeline()\n",
    "\n",
    "# Register the container task using the decorator\n",
    "@pipeline.register(retries=2)\n",
    "class MultiplyTask(ContainerTaskBase):\n",
    "    def __init__(self, factor: int = 3):\n",
    "        self.factor = factor\n",
    "\n",
    "    def __call__(self, x: int) -> Result[int, str]:\n",
    "        return Ok(x * self.factor)\n",
    "\n",
    "# Run the pipeline\n",
    "result = pipeline.run(2, show_progress=True)\n",
    "print(result.unwrap())  # Should print 6 if factor is set to 3 in MultiplyTask's init\n"
   ]
  },
  {
   "cell_type": "code",
   "execution_count": 10,
   "metadata": {},
   "outputs": [
    {
     "name": "stdout",
     "output_type": "stream",
     "text": [
      "Callable <class '__main__.InvalidTask'>\n"
     ]
    }
   ],
   "source": [
    "pipeline = Pipeline()\n",
    "\n",
    "@pipeline.register(retries=1)\n",
    "class InvalidTask:\n",
    "    pass"
   ]
  },
  {
   "cell_type": "code",
   "execution_count": 6,
   "metadata": {},
   "outputs": [
    {
     "data": {
      "text/plain": [
       "True"
      ]
     },
     "execution_count": 6,
     "metadata": {},
     "output_type": "execute_result"
    }
   ],
   "source": [
    "class AnotherInvalidTask:\n",
    "    pass\n",
    "\n",
    "callable(AnotherInvalidTask)"
   ]
  }
 ],
 "metadata": {
  "kernelspec": {
   "display_name": ".venv",
   "language": "python",
   "name": "python3"
  },
  "language_info": {
   "codemirror_mode": {
    "name": "ipython",
    "version": 3
   },
   "file_extension": ".py",
   "mimetype": "text/x-python",
   "name": "python",
   "nbconvert_exporter": "python",
   "pygments_lexer": "ipython3",
   "version": "3.11.9"
  }
 },
 "nbformat": 4,
 "nbformat_minor": 2
}
