{
 "cells": [
  {
   "cell_type": "code",
   "execution_count": 1,
   "metadata": {},
   "outputs": [],
   "source": [
    "from neopipe.result import Result, Ok, Err\n",
    "from neopipe.task import FunctionAsyncTask\n",
    "from neopipe.async_pipeline import AsyncPipeline"
   ]
  },
  {
   "cell_type": "code",
   "execution_count": 2,
   "metadata": {},
   "outputs": [],
   "source": [
    "@FunctionAsyncTask.decorator(retries=1)\n",
    "async def add_one(res: Result[int, str]) -> Result[int, str]:\n",
    "    if res.is_ok():\n",
    "        return Ok(res.unwrap() + 1)\n",
    "    return res\n",
    "\n",
    "@FunctionAsyncTask.decorator(retries=1)\n",
    "async def multiply_two(res: Result[int, str]) -> Result[int, str]:\n",
    "    if res.is_ok():\n",
    "        return Ok(res.unwrap() * 2)\n",
    "    return res\n"
   ]
  },
  {
   "cell_type": "code",
   "execution_count": 9,
   "metadata": {},
   "outputs": [],
   "source": [
    "async def test_run_parallel_success():\n",
    "    p1 = AsyncPipeline.from_tasks([add_one, multiply_two])\n",
    "    p2 = AsyncPipeline.from_tasks([multiply_two, add_one])\n",
    "    inputs = [Ok(1), Ok(2)]\n",
    "    res = await AsyncPipeline.run_parallel([p1, p2], inputs, debug=True)\n",
    "    return res\n",
    "    # assert res == Ok([[2, 4], [4, 5]])"
   ]
  },
  {
   "cell_type": "code",
   "execution_count": 10,
   "metadata": {},
   "outputs": [
    {
     "name": "stderr",
     "output_type": "stream",
     "text": [
      "2025-04-18 22:02:45 - neopipe.task - INFO - [add_one] Attempt 1 - Task ID: 70fe5576-79e4-4984-82fb-33337815451c\n",
      "2025-04-18 22:02:45 - neopipe.task - INFO - [add_one] Success on attempt 1\n",
      "2025-04-18 22:02:45 - neopipe.task - INFO - [multiply_two] Attempt 1 - Task ID: b54e5167-ef7c-41dd-a83e-dc5e24af873e\n",
      "2025-04-18 22:02:45 - neopipe.task - INFO - [multiply_two] Success on attempt 1\n",
      "2025-04-18 22:02:45 - neopipe.task - INFO - [multiply_two] Attempt 1 - Task ID: b54e5167-ef7c-41dd-a83e-dc5e24af873e\n",
      "2025-04-18 22:02:45 - neopipe.task - INFO - [multiply_two] Success on attempt 1\n",
      "2025-04-18 22:02:45 - neopipe.task - INFO - [add_one] Attempt 1 - Task ID: 70fe5576-79e4-4984-82fb-33337815451c\n",
      "2025-04-18 22:02:45 - neopipe.task - INFO - [add_one] Success on attempt 1\n"
     ]
    }
   ],
   "source": [
    "result = await test_run_parallel_success()"
   ]
  },
  {
   "cell_type": "code",
   "execution_count": 11,
   "metadata": {},
   "outputs": [
    {
     "data": {
      "text/plain": [
       "([PipelineResult(name='AsyncPipeline-f91635fe-7428-4a8c-af32-e9d95380eaf4', result=4),\n",
       "  PipelineResult(name='AsyncPipeline-ae60c73c-b043-469a-a679-d6cc3f464a2a', result=5)],\n",
       " PipelineTrace(pipelines=[SinglePipelineTrace(name='AsyncPipeline-f91635fe-7428-4a8c-af32-e9d95380eaf4', tasks=[('add_one', Ok(2)), ('multiply_two', Ok(4))]), SinglePipelineTrace(name='AsyncPipeline-ae60c73c-b043-469a-a679-d6cc3f464a2a', tasks=[('multiply_two', Ok(4)), ('add_one', Ok(5))])]))"
      ]
     },
     "execution_count": 11,
     "metadata": {},
     "output_type": "execute_result"
    }
   ],
   "source": [
    "result.unwrap()"
   ]
  }
 ],
 "metadata": {
  "kernelspec": {
   "display_name": ".venv",
   "language": "python",
   "name": "python3"
  },
  "language_info": {
   "codemirror_mode": {
    "name": "ipython",
    "version": 3
   },
   "file_extension": ".py",
   "mimetype": "text/x-python",
   "name": "python",
   "nbconvert_exporter": "python",
   "pygments_lexer": "ipython3",
   "version": "3.11.9"
  }
 },
 "nbformat": 4,
 "nbformat_minor": 2
}
