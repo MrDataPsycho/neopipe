{
 "cells": [
  {
   "cell_type": "code",
   "execution_count": 1,
   "metadata": {},
   "outputs": [],
   "source": [
    "from neopipe.task import FunctionSyncTask, ClassSyncTask\n",
    "from neopipe.result import Result, Ok, Err\n",
    "import inspect\n",
    "from typing import get_origin"
   ]
  },
  {
   "cell_type": "code",
   "execution_count": 2,
   "metadata": {},
   "outputs": [],
   "source": [
    "@FunctionSyncTask.decorator()\n",
    "def start(_: Result[int, str]) -> Result[int, str]:\n",
    "    return Ok(10)\n",
    "\n",
    "@FunctionSyncTask.decorator()\n",
    "def increment(x: Result[int, str]) -> Result[int, str]:\n",
    "    return Ok(x.unwrap() + 1)\n",
    "\n",
    "@FunctionSyncTask.decorator()\n",
    "def fail_if_even(x: Result) -> Result[int, str]:\n",
    "    if x.unwrap() % 2 == 0:\n",
    "        return Err(\"Even number not allowed\")\n",
    "    return Ok(x)\n",
    "\n",
    "# ---------------------------\n",
    "# ClassSyncTask example\n",
    "# ---------------------------\n",
    "\n",
    "class MultiplyTask(ClassSyncTask[int, str]):\n",
    "    def __init__(self, multiplier: int):\n",
    "        super().__init__()\n",
    "        self.multiplier = multiplier\n",
    "\n",
    "    def execute(self, value: Result) -> Result[int, str]:\n",
    "        return Ok(value.unwrap() * self.multiplier)"
   ]
  },
  {
   "cell_type": "code",
   "execution_count": 3,
   "metadata": {},
   "outputs": [],
   "source": [
    "multiply_task = MultiplyTask(3)"
   ]
  },
  {
   "cell_type": "code",
   "execution_count": 4,
   "metadata": {},
   "outputs": [
    {
     "name": "stderr",
     "output_type": "stream",
     "text": [
      "2025-04-16 21:50:31 - neopipe.task - INFO - [MultiplyTask] Attempt 1 - Task ID: 4d383711-39ef-4d57-abb6-a97153fd217a\n",
      "2025-04-16 21:50:31 - neopipe.task - INFO - [MultiplyTask] Success on attempt 1\n"
     ]
    },
    {
     "data": {
      "text/plain": [
       "Ok(15)"
      ]
     },
     "execution_count": 4,
     "metadata": {},
     "output_type": "execute_result"
    }
   ],
   "source": [
    "multiply_task(Ok(5))"
   ]
  },
  {
   "cell_type": "code",
   "execution_count": 9,
   "metadata": {},
   "outputs": [],
   "source": [
    "sig = inspect.signature(increment.execute)\n",
    "# sig\n",
    "params = list(sig.parameters.values())\n",
    "non_self_params = [p for p in params if p.name != \"self\"]"
   ]
  },
  {
   "cell_type": "code",
   "execution_count": 19,
   "metadata": {},
   "outputs": [
    {
     "data": {
      "text/plain": [
       "neopipe.result.Result[~T, ~E]"
      ]
     },
     "execution_count": 19,
     "metadata": {},
     "output_type": "execute_result"
    }
   ],
   "source": [
    "non_self_params[0].annotation"
   ]
  },
  {
   "cell_type": "code",
   "execution_count": null,
   "metadata": {},
   "outputs": [],
   "source": [
    "get_origin(non_self_params[0].annotation) is Result"
   ]
  },
  {
   "cell_type": "code",
   "execution_count": 5,
   "metadata": {},
   "outputs": [],
   "source": [
    "next_sig = inspect.signature(increment.execute)\n",
    "next_params = [p for p in next_sig.parameters.values() if p.name != \"self\"]"
   ]
  },
  {
   "cell_type": "code",
   "execution_count": 6,
   "metadata": {},
   "outputs": [],
   "source": [
    "expected_input_type = next_params[0].annotation"
   ]
  },
  {
   "cell_type": "code",
   "execution_count": 7,
   "metadata": {},
   "outputs": [
    {
     "data": {
      "text/plain": [
       "neopipe.result.Result[~T, ~E]"
      ]
     },
     "execution_count": 7,
     "metadata": {},
     "output_type": "execute_result"
    }
   ],
   "source": [
    "expected_input_type"
   ]
  },
  {
   "cell_type": "code",
   "execution_count": 6,
   "metadata": {},
   "outputs": [
    {
     "data": {
      "text/plain": [
       "<Signature (self, value: neopipe.result.Result) -> neopipe.result.Result[int, str]>"
      ]
     },
     "execution_count": 6,
     "metadata": {},
     "output_type": "execute_result"
    }
   ],
   "source": [
    "sig_class = inspect.signature(MultiplyTask.execute)\n",
    "sig_class"
   ]
  },
  {
   "cell_type": "code",
   "execution_count": 7,
   "metadata": {},
   "outputs": [
    {
     "data": {
      "text/plain": [
       "<Signature (input_result: neopipe.result.Result[~T, ~E]) -> neopipe.result.Result[~U, ~E]>"
      ]
     },
     "execution_count": 7,
     "metadata": {},
     "output_type": "execute_result"
    }
   ],
   "source": [
    "inspect.signature(increment.execute)"
   ]
  }
 ],
 "metadata": {
  "kernelspec": {
   "display_name": ".venv",
   "language": "python",
   "name": "python3"
  },
  "language_info": {
   "codemirror_mode": {
    "name": "ipython",
    "version": 3
   },
   "file_extension": ".py",
   "mimetype": "text/x-python",
   "name": "python",
   "nbconvert_exporter": "python",
   "pygments_lexer": "ipython3",
   "version": "3.11.9"
  }
 },
 "nbformat": 4,
 "nbformat_minor": 2
}
