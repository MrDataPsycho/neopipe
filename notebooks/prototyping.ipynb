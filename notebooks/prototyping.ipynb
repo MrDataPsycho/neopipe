{
 "cells": [
  {
   "cell_type": "code",
   "execution_count": 1,
   "metadata": {},
   "outputs": [],
   "source": [
    "from neopipe.result import Ok, Result, Err\n",
    "from neopipe.task import FunctionAsyncTask"
   ]
  },
  {
   "cell_type": "code",
   "execution_count": 2,
   "metadata": {},
   "outputs": [],
   "source": [
    "DB = [\n",
    "    {\"id\": 1, \"text\": \"The quick brown fox jumps over the lazy dog\"},\n",
    "    {\"id\": 2, \"text\": \"A journey of a thousand miles begins with a single step\"},\n",
    "    {\"id\": 3, \"text\": \"To be or not to be, that is the question\"},\n",
    "]\n"
   ]
  },
  {
   "cell_type": "code",
   "execution_count": 5,
   "metadata": {},
   "outputs": [],
   "source": [
    "@FunctionAsyncTask.decorator()\n",
    "async def search_text(query: str) -> Result[int, str]:\n",
    "    \"\"\"\n",
    "    Search for a text in the database.\n",
    "    \"\"\"\n",
    "    for item in DB:\n",
    "        if query in item[\"text\"]:\n",
    "            return Ok(item[\"id\"])\n",
    "    return Err(\"Text not found\")"
   ]
  },
  {
   "cell_type": "code",
   "execution_count": 8,
   "metadata": {},
   "outputs": [
    {
     "name": "stderr",
     "output_type": "stream",
     "text": [
      "2025-04-20 23:31:06 - neopipe.task - INFO - [search_text] Attempt 1 - Task ID: b3d33f16-e383-43b2-b1eb-b77ebb2ad53d\n",
      "2025-04-20 23:31:06 - neopipe.task - INFO - [search_text] Success on attempt 1\n"
     ]
    },
    {
     "data": {
      "text/plain": [
       "Ok(1)"
      ]
     },
     "execution_count": 8,
     "metadata": {},
     "output_type": "execute_result"
    }
   ],
   "source": [
    "await search_text(\"fox\")"
   ]
  }
 ],
 "metadata": {
  "kernelspec": {
   "display_name": ".venv",
   "language": "python",
   "name": "python3"
  },
  "language_info": {
   "codemirror_mode": {
    "name": "ipython",
    "version": 3
   },
   "file_extension": ".py",
   "mimetype": "text/x-python",
   "name": "python",
   "nbconvert_exporter": "python",
   "pygments_lexer": "ipython3",
   "version": "3.11.9"
  }
 },
 "nbformat": 4,
 "nbformat_minor": 2
}
