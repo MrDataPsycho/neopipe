{
 "cells": [
  {
   "cell_type": "code",
   "execution_count": 1,
   "metadata": {},
   "outputs": [],
   "source": [
    "from neopipe.result import Ok, Result, Err\n",
    "from neopipe.task import FunctionAsyncTask"
   ]
  },
  {
   "cell_type": "code",
   "execution_count": 2,
   "metadata": {},
   "outputs": [],
   "source": [
    "DB = [\n",
    "    {\"id\": 1, \"text\": \"The quick brown fox jumps over the lazy dog\"},\n",
    "    {\"id\": 2, \"text\": \"A journey of a thousand miles begins with a single step\"},\n",
    "    {\"id\": 3, \"text\": \"To be or not to be, that is the question\"},\n",
    "]\n"
   ]
  },
  {
   "cell_type": "code",
   "execution_count": 3,
   "metadata": {},
   "outputs": [],
   "source": [
    "@FunctionAsyncTask.decorator()\n",
    "async def search_text(query: str) -> Result[int, str]:\n",
    "    \"\"\"\n",
    "    Search for a text in the database.\n",
    "    \"\"\"\n",
    "    for item in DB:\n",
    "        if query in item[\"hit\"]:\n",
    "            return Ok(item[\"id\"])\n",
    "    return Err(\"Text not found\")"
   ]
  },
  {
   "cell_type": "code",
   "execution_count": 4,
   "metadata": {},
   "outputs": [
    {
     "name": "stderr",
     "output_type": "stream",
     "text": [
      "2025-04-21 17:26:34 - neopipe.task - INFO - [search_text] Attempt 1 - Task ID: f89ae5a8-6995-499c-84b4-f6baf1b3c539\n",
      "2025-04-21 17:26:34 - neopipe.task - ERROR - [search_text] Exception on attempt 1\n",
      "Traceback (most recent call last):\n",
      "  File \"/Users/ALAMSHC/PythonProjects/PetProjects/neopipe/src/neopipe/task.py\", line 201, in __call__\n",
      "    result = await self.execute(input_result)\n",
      "             ^^^^^^^^^^^^^^^^^^^^^^^^^^^^^^^^\n",
      "  File \"/Users/ALAMSHC/PythonProjects/PetProjects/neopipe/src/neopipe/task.py\", line 257, in execute\n",
      "    return await self.func(input_result)\n",
      "           ^^^^^^^^^^^^^^^^^^^^^^^^^^^^^\n",
      "  File \"/var/folders/73/0st3h0g152q99vwzvxjnjh6c0000gp/T/ipykernel_66789/1742287979.py\", line 7, in search_text\n",
      "    if query in item[\"hit\"]:\n",
      "                ~~~~^^^^^^^\n",
      "KeyError: 'hit'\n"
     ]
    },
    {
     "data": {
      "text/plain": [
       "Err(\"[search_text] failed after 1 retries and raised Error: 'hit' with Exception type: KeyError.\")"
      ]
     },
     "execution_count": 4,
     "metadata": {},
     "output_type": "execute_result"
    }
   ],
   "source": [
    "await search_text(\"fox\")"
   ]
  }
 ],
 "metadata": {
  "kernelspec": {
   "display_name": ".venv",
   "language": "python",
   "name": "python3"
  },
  "language_info": {
   "codemirror_mode": {
    "name": "ipython",
    "version": 3
   },
   "file_extension": ".py",
   "mimetype": "text/x-python",
   "name": "python",
   "nbconvert_exporter": "python",
   "pygments_lexer": "ipython3",
   "version": "3.11.9"
  }
 },
 "nbformat": 4,
 "nbformat_minor": 2
}
