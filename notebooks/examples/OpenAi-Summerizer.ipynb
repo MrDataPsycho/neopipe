{
 "cells": [
  {
   "cell_type": "code",
   "execution_count": 19,
   "id": "aa22b3f9",
   "metadata": {},
   "outputs": [],
   "source": [
    "from openai import AzureOpenAI\n",
    "from pydantic import BaseModel\n",
    "from neopipe.result import Ok, Result, Err, ExecutionResult\n",
    "from neopipe.task import FunctionSyncTask, ClassSyncTask\n",
    "from neopipe.pipeline import SyncPipeline\n",
    "from dotenv import load_dotenv, find_dotenv\n",
    "import os\n",
    "import logging"
   ]
  },
  {
   "cell_type": "code",
   "execution_count": 2,
   "id": "4099ad9c",
   "metadata": {},
   "outputs": [],
   "source": [
    "logging.getLogger(\"openai\").setLevel(logging.ERROR)\n",
    "logging.getLogger(\"httpx\").setLevel(logging.ERROR)\n",
    "# logging.getLogger(\"neopipe\").setLevel(logging.ERROR)"
   ]
  },
  {
   "cell_type": "code",
   "execution_count": 4,
   "id": "fec9cad4",
   "metadata": {},
   "outputs": [
    {
     "data": {
      "text/plain": [
       "True"
      ]
     },
     "execution_count": 4,
     "metadata": {},
     "output_type": "execute_result"
    }
   ],
   "source": [
    "load_dotenv(find_dotenv(\"../.env\"), override=True)"
   ]
  },
  {
   "cell_type": "code",
   "execution_count": 5,
   "id": "d9ce2cbd",
   "metadata": {},
   "outputs": [],
   "source": [
    "LLM_CLIENT = AzureOpenAI(\n",
    "    azure_endpoint=os.environ[\"AZURE_OPENAI_ENDPOINT\"],\n",
    "    api_key=os.environ[\"AZURE_OPENAI_API_KEY\"],\n",
    "    api_version=os.environ[\"AZURE_OPENAI_API_VERSION\"],\n",
    "    azure_deployment=os.environ[\"AZURE_OPENAI_DEPLOYMENT_NAME\"],\n",
    ")"
   ]
  },
  {
   "cell_type": "code",
   "execution_count": 6,
   "id": "8418dd7e",
   "metadata": {},
   "outputs": [],
   "source": [
    "# ───────────────────────────────────────────────────────────────\n",
    "# 1) In‑memory “database”\n",
    "# ───────────────────────────────────────────────────────────────\n",
    "DB = [\n",
    "    {\"id\": 1, \"text\": \"The quick brown fox jumps over the lazy dog\"},\n",
    "    {\"id\": 2, \"text\": \"A journey of a thousand miles begins with a single step\"},\n",
    "    {\"id\": 3, \"text\": \"To be or not to be, that is the question\"},\n",
    "]\n"
   ]
  },
  {
   "cell_type": "code",
   "execution_count": 7,
   "id": "aa456228",
   "metadata": {},
   "outputs": [],
   "source": [
    "class SearchResult(BaseModel):\n",
    "    query: str\n",
    "    hits: list[dict]"
   ]
  },
  {
   "cell_type": "code",
   "execution_count": 8,
   "id": "1a94e974",
   "metadata": {},
   "outputs": [],
   "source": [
    "@FunctionSyncTask.decorator()\n",
    "def search_task(res: Result[str, str]) -> Result[SearchResult, str]:\n",
    "    \"\"\"\n",
    "    Given a query string in res.unwrap(), returns SearchResult:\n",
    "    \"\"\"\n",
    "    if res.is_err():\n",
    "        return res\n",
    "\n",
    "    query = res.unwrap()\n",
    "    hits = [record for record in DB if query.lower() in record[\"text\"].lower()]\n",
    "    return Ok(SearchResult(query=query, hits=hits))"
   ]
  },
  {
   "cell_type": "code",
   "execution_count": 9,
   "id": "89cf545e",
   "metadata": {},
   "outputs": [
    {
     "name": "stderr",
     "output_type": "stream",
     "text": [
      "2025-05-08 15:02:24 - neopipe.task - INFO - [search_task] Attempt 1 - Task ID: 12139c28-fc12-407f-a2d9-94e3fcca39d9\n",
      "2025-05-08 15:02:24 - neopipe.task - INFO - [search_task] Success on attempt 1\n"
     ]
    }
   ],
   "source": [
    "search_result = search_task(Result.Ok(\"quick\"))"
   ]
  },
  {
   "cell_type": "code",
   "execution_count": 9,
   "id": "d8131961",
   "metadata": {},
   "outputs": [],
   "source": [
    "# search_result.unwrap().model_dump()"
   ]
  },
  {
   "cell_type": "code",
   "execution_count": 10,
   "id": "d73370e4",
   "metadata": {},
   "outputs": [],
   "source": [
    "@FunctionSyncTask.decorator()\n",
    "def build_context_task(res: Result[SearchResult, str]) -> Result[list[dict], str]:\n",
    "    \"\"\"\n",
    "    Given the context dict {query,hits}, build the OpenAI chat messages:\n",
    "      [ system, user, assistant(context-of-hits) ]\n",
    "    \"\"\"\n",
    "    if res.is_err():\n",
    "        return res\n",
    "\n",
    "    ctx = res.unwrap().model_dump()\n",
    "    messages = [\n",
    "        {\n",
    "            \"role\": \"system\",\n",
    "            \"content\": \"You are a helpful assistant that summarizes search results.\"\n",
    "        },\n",
    "        {\n",
    "            \"role\": \"user\",\n",
    "            \"content\": f\"I’m looking for records containing: “{ctx['query']}”\"\n",
    "        },\n",
    "        {\n",
    "            \"role\": \"assistant\",\n",
    "            \"content\": (\n",
    "                f\"Found {len(ctx['hits'])} record(s):\\n\" +\n",
    "                \"\\n\".join(f\"- {h['text']}\" for h in ctx[\"hits\"])\n",
    "            )\n",
    "        },\n",
    "    ]\n",
    "    return Ok(messages)"
   ]
  },
  {
   "cell_type": "code",
   "execution_count": 11,
   "id": "83a43ba3",
   "metadata": {},
   "outputs": [
    {
     "name": "stderr",
     "output_type": "stream",
     "text": [
      "2025-05-08 15:02:31 - neopipe.task - INFO - [build_context_task] Attempt 1 - Task ID: cbfafa37-2a55-49ce-bd67-3f87c2ffec9a\n",
      "2025-05-08 15:02:31 - neopipe.task - INFO - [build_context_task] Success on attempt 1\n"
     ]
    },
    {
     "data": {
      "text/plain": [
       "Ok([{'role': 'system', 'content': 'You are a helpful assistant that summarizes search results.'}, {'role': 'user', 'content': 'I’m looking for records containing: “quick”'}, {'role': 'assistant', 'content': 'Found 1 record(s):\\n- The quick brown fox jumps over the lazy dog'}])"
      ]
     },
     "execution_count": 11,
     "metadata": {},
     "output_type": "execute_result"
    }
   ],
   "source": [
    "build_context_task(search_result)"
   ]
  },
  {
   "cell_type": "code",
   "execution_count": 12,
   "id": "09f956f7",
   "metadata": {},
   "outputs": [],
   "source": [
    "class OpenAITask(ClassSyncTask[list[dict], str]):\n",
    "    \"\"\"\n",
    "    Sends the assembled messages list to OpenAI and returns the assistant’s reply.\n",
    "    \"\"\"\n",
    "    def __init__(self, client: AzureOpenAI, model: str =\"gpt-4o\"):\n",
    "        super().__init__()\n",
    "        self.client = client\n",
    "        self.model = model\n",
    "\n",
    "    def execute(self, res: Result[list[dict], str]) -> Result[str, str]:\n",
    "        if res.is_err():\n",
    "            return res\n",
    "        messages = res.unwrap()\n",
    "        try:\n",
    "            resp = self.client.chat.completions.create(\n",
    "                model=self.model,\n",
    "                messages=messages\n",
    "            )\n",
    "            return Ok(resp.choices[0].message.content.strip())\n",
    "        except Exception as e:\n",
    "            return Err(str(e))"
   ]
  },
  {
   "cell_type": "code",
   "execution_count": 13,
   "id": "e0c292a4",
   "metadata": {},
   "outputs": [],
   "source": [
    "pipeline = SyncPipeline.from_tasks(\n",
    "    [search_task, build_context_task, OpenAITask(client=LLM_CLIENT)],\n",
    "    name=\"SearchAndRespond\"\n",
    ")"
   ]
  },
  {
   "cell_type": "code",
   "execution_count": null,
   "id": "ba9deecb",
   "metadata": {},
   "outputs": [],
   "source": [
    "def run_search_and_respond(user_query: str):\n",
    "    # Wrap the user query in Ok(...)\n",
    "    result = pipeline.run(Ok(user_query), debug=True)\n",
    "    return result"
   ]
  },
  {
   "cell_type": "code",
   "execution_count": 16,
   "id": "895535d7",
   "metadata": {},
   "outputs": [
    {
     "name": "stderr",
     "output_type": "stream",
     "text": [
      "2025-05-08 15:03:45 - neopipe.task - INFO - [search_task] Attempt 1 - Task ID: 12139c28-fc12-407f-a2d9-94e3fcca39d9\n",
      "2025-05-08 15:03:45 - neopipe.task - INFO - [search_task] Success on attempt 1\n",
      "2025-05-08 15:03:45 - neopipe.task - INFO - [build_context_task] Attempt 1 - Task ID: cbfafa37-2a55-49ce-bd67-3f87c2ffec9a\n",
      "2025-05-08 15:03:45 - neopipe.task - INFO - [build_context_task] Success on attempt 1\n",
      "2025-05-08 15:03:45 - neopipe.task - INFO - [OpenAITask] Attempt 1 - Task ID: 53a4f59e-d2f9-4f70-a6d2-d45d52d68c13\n",
      "2025-05-08 15:03:46 - neopipe.task - INFO - [OpenAITask] Success on attempt 1\n"
     ]
    }
   ],
   "source": [
    "q = \"quick\"\n",
    "response = run_search_and_respond(q)"
   ]
  },
  {
   "cell_type": "code",
   "execution_count": 17,
   "id": "c0d4bb25",
   "metadata": {},
   "outputs": [
    {
     "name": "stdout",
     "output_type": "stream",
     "text": [
      "ExecutionResult(result=Ok('Sure, here\\'s one record containing \"quick\":\\n\\n- \"The quick brown fox jumps over the lazy dog.\"'), execution_time=0.836s, trace=Trace(steps=[('SearchAndRespond', Ok('quick')), ('search_task', Ok(SearchResult(query='quick', hits=[{'id': 1, 'text': 'The quick brown fox jumps over the lazy dog'}]))), ('build_context_task', Ok([{'role': 'system', 'content': 'You are a helpful assistant that summarizes search results.'}, {'role': 'user', 'content': 'I’m looking for records containing: “quick”'}, {'role': 'assistant', 'content': 'Found 1 record(s):\\n- The quick brown fox jumps over the lazy dog'}])), ('OpenAITask', Ok('Sure, here\\'s one record containing \"quick\":\\n\\n- \"The quick brown fox jumps over the lazy dog.\"'))]))\n"
     ]
    }
   ],
   "source": [
    "print(response)"
   ]
  },
  {
   "cell_type": "code",
   "execution_count": 22,
   "id": "66ff281d",
   "metadata": {},
   "outputs": [],
   "source": [
    "def result_nicely(res: ExecutionResult, query: str) -> None:\n",
    "    \"\"\"\n",
    "    Print the result nicely.\n",
    "    \"\"\"\n",
    "    if res.result.is_err():\n",
    "        print(\"❌ Pipeline error:\", res.result.err())\n",
    "    else:\n",
    "        final = res.result.unwrap()\n",
    "        trace = res.trace\n",
    "        print(\"🤖 AI Response:\\n\", final, \"\\n\")\n",
    "        print(\"—-- Trace —--\")\n",
    "        print(f\"Input query: {query!r}\")\n",
    "        for task_name, step_res in trace.steps:\n",
    "            print(f\"{task_name:20} → {step_res}\")"
   ]
  },
  {
   "cell_type": "code",
   "execution_count": 24,
   "id": "827479fc",
   "metadata": {},
   "outputs": [
    {
     "name": "stdout",
     "output_type": "stream",
     "text": [
      "🤖 AI Response:\n",
      " Sure, here's one record containing \"quick\":\n",
      "\n",
      "- \"The quick brown fox jumps over the lazy dog.\" \n",
      "\n",
      "—-- Trace —--\n",
      "Input query: 'quick'\n",
      "SearchAndRespond     → Ok('quick')\n",
      "search_task          → Ok(SearchResult(query='quick', hits=[{'id': 1, 'text': 'The quick brown fox jumps over the lazy dog'}]))\n",
      "build_context_task   → Ok([{'role': 'system', 'content': 'You are a helpful assistant that summarizes search results.'}, {'role': 'user', 'content': 'I’m looking for records containing: “quick”'}, {'role': 'assistant', 'content': 'Found 1 record(s):\\n- The quick brown fox jumps over the lazy dog'}])\n",
      "OpenAITask           → Ok('Sure, here\\'s one record containing \"quick\":\\n\\n- \"The quick brown fox jumps over the lazy dog.\"')\n"
     ]
    }
   ],
   "source": [
    "result_nicely(response, q)"
   ]
  }
 ],
 "metadata": {
  "kernelspec": {
   "display_name": ".venv",
   "language": "python",
   "name": "python3"
  },
  "language_info": {
   "codemirror_mode": {
    "name": "ipython",
    "version": 3
   },
   "file_extension": ".py",
   "mimetype": "text/x-python",
   "name": "python",
   "nbconvert_exporter": "python",
   "pygments_lexer": "ipython3",
   "version": "3.11.9"
  }
 },
 "nbformat": 4,
 "nbformat_minor": 5
}
