{
 "cells": [
  {
   "cell_type": "code",
   "execution_count": 1,
   "id": "aa22b3f9",
   "metadata": {},
   "outputs": [],
   "source": [
    "from openai import AzureOpenAI\n",
    "from pydantic import BaseModel\n",
    "from neopipe.result import Ok, Result, Err\n",
    "from neopipe.task import FunctionSyncTask, ClassSyncTask\n",
    "from neopipe.pipeline import SyncPipeline\n",
    "from dotenv import load_dotenv, find_dotenv\n",
    "import os\n",
    "import logging"
   ]
  },
  {
   "cell_type": "code",
   "execution_count": 2,
   "id": "4099ad9c",
   "metadata": {},
   "outputs": [],
   "source": [
    "logging.getLogger(\"openai\").setLevel(logging.ERROR)\n",
    "logging.getLogger(\"httpx\").setLevel(logging.ERROR)\n",
    "# logging.getLogger(\"neopipe\").setLevel(logging.ERROR)"
   ]
  },
  {
   "cell_type": "code",
   "execution_count": 3,
   "id": "fec9cad4",
   "metadata": {},
   "outputs": [
    {
     "data": {
      "text/plain": [
       "True"
      ]
     },
     "execution_count": 3,
     "metadata": {},
     "output_type": "execute_result"
    }
   ],
   "source": [
    "load_dotenv(find_dotenv(\"../../dev.env\"), override=True)"
   ]
  },
  {
   "cell_type": "code",
   "execution_count": 4,
   "id": "d9ce2cbd",
   "metadata": {},
   "outputs": [],
   "source": [
    "LLM_CLIENT = AzureOpenAI(\n",
    "    azure_endpoint=os.environ[\"AZURE_OPENAI_ENDPOINT\"],\n",
    "    api_key=os.environ[\"AZURE_OPENAI_API_KEY\"],\n",
    "    api_version=os.environ[\"AZURE_OPENAI_API_VERSION\"],\n",
    "    azure_deployment=os.environ[\"AZURE_OPENAI_DEPLOYMENT_NAME\"],\n",
    ")"
   ]
  },
  {
   "cell_type": "code",
   "execution_count": 5,
   "id": "8418dd7e",
   "metadata": {},
   "outputs": [],
   "source": [
    "# ───────────────────────────────────────────────────────────────\n",
    "# 1) In‑memory “database”\n",
    "# ───────────────────────────────────────────────────────────────\n",
    "DB = [\n",
    "    {\"id\": 1, \"text\": \"The quick brown fox jumps over the lazy dog\"},\n",
    "    {\"id\": 2, \"text\": \"A journey of a thousand miles begins with a single step\"},\n",
    "    {\"id\": 3, \"text\": \"To be or not to be, that is the question\"},\n",
    "]\n"
   ]
  },
  {
   "cell_type": "code",
   "execution_count": 6,
   "id": "aa456228",
   "metadata": {},
   "outputs": [],
   "source": [
    "class SearchResult(BaseModel):\n",
    "    query: str\n",
    "    hits: list[dict]"
   ]
  },
  {
   "cell_type": "code",
   "execution_count": 7,
   "id": "1a94e974",
   "metadata": {},
   "outputs": [],
   "source": [
    "@FunctionSyncTask.decorator()\n",
    "def search_task(res: Result[str, str]) -> Result[SearchResult, str]:\n",
    "    \"\"\"\n",
    "    Given a query string in res.unwrap(), returns SearchResult:\n",
    "    \"\"\"\n",
    "    if res.is_err():\n",
    "        return res\n",
    "\n",
    "    query = res.unwrap()\n",
    "    hits = [record for record in DB if query.lower() in record[\"text\"].lower()]\n",
    "    return Ok(SearchResult(query=query, hits=hits))"
   ]
  },
  {
   "cell_type": "code",
   "execution_count": 8,
   "id": "89cf545e",
   "metadata": {},
   "outputs": [
    {
     "name": "stderr",
     "output_type": "stream",
     "text": [
      "2025-04-20 23:11:14 - neopipe.task - INFO - [search_task] Attempt 1 - Task ID: bd5b20c7-0dac-4a8d-820a-f23b4ea22e9d\n",
      "2025-04-20 23:11:14 - neopipe.task - INFO - [search_task] Success on attempt 1\n"
     ]
    }
   ],
   "source": [
    "search_result = search_task(Result.Ok(\"quick\"))"
   ]
  },
  {
   "cell_type": "code",
   "execution_count": 9,
   "id": "d8131961",
   "metadata": {},
   "outputs": [],
   "source": [
    "# search_result.unwrap().model_dump()"
   ]
  },
  {
   "cell_type": "code",
   "execution_count": 10,
   "id": "d73370e4",
   "metadata": {},
   "outputs": [],
   "source": [
    "@FunctionSyncTask.decorator()\n",
    "def build_context_task(res: Result[SearchResult, str]) -> Result[list[dict], str]:\n",
    "    \"\"\"\n",
    "    Given the context dict {query,hits}, build the OpenAI chat messages:\n",
    "      [ system, user, assistant(context-of-hits) ]\n",
    "    \"\"\"\n",
    "    if res.is_err():\n",
    "        return res\n",
    "\n",
    "    ctx = res.unwrap().model_dump()\n",
    "    messages = [\n",
    "        {\n",
    "            \"role\": \"system\",\n",
    "            \"content\": \"You are a helpful assistant that summarizes search results.\"\n",
    "        },\n",
    "        {\n",
    "            \"role\": \"user\",\n",
    "            \"content\": f\"I’m looking for records containing: “{ctx['query']}”\"\n",
    "        },\n",
    "        {\n",
    "            \"role\": \"assistant\",\n",
    "            \"content\": (\n",
    "                f\"Found {len(ctx['hits'])} record(s):\\n\" +\n",
    "                \"\\n\".join(f\"- {h['text']}\" for h in ctx[\"hits\"])\n",
    "            )\n",
    "        },\n",
    "    ]\n",
    "    return Ok(messages)"
   ]
  },
  {
   "cell_type": "code",
   "execution_count": 11,
   "id": "83a43ba3",
   "metadata": {},
   "outputs": [
    {
     "name": "stderr",
     "output_type": "stream",
     "text": [
      "2025-04-20 23:11:15 - neopipe.task - INFO - [build_context_task] Attempt 1 - Task ID: 6f4013a0-7b2e-431f-bb1e-9cb4fd03a48b\n",
      "2025-04-20 23:11:15 - neopipe.task - INFO - [build_context_task] Success on attempt 1\n"
     ]
    },
    {
     "data": {
      "text/plain": [
       "Ok([{'role': 'system', 'content': 'You are a helpful assistant that summarizes search results.'}, {'role': 'user', 'content': 'I’m looking for records containing: “quick”'}, {'role': 'assistant', 'content': 'Found 1 record(s):\\n- The quick brown fox jumps over the lazy dog'}])"
      ]
     },
     "execution_count": 11,
     "metadata": {},
     "output_type": "execute_result"
    }
   ],
   "source": [
    "build_context_task(search_result)"
   ]
  },
  {
   "cell_type": "code",
   "execution_count": 12,
   "id": "09f956f7",
   "metadata": {},
   "outputs": [],
   "source": [
    "class OpenAITask(ClassSyncTask[list[dict], str]):\n",
    "    \"\"\"\n",
    "    Sends the assembled messages list to OpenAI and returns the assistant’s reply.\n",
    "    \"\"\"\n",
    "    def __init__(self, client: AzureOpenAI, model: str =\"gpt-4o\"):\n",
    "        super().__init__()\n",
    "        self.client = client\n",
    "        self.model = model\n",
    "\n",
    "    def execute(self, res: Result[list[dict], str]) -> Result[str, str]:\n",
    "        if res.is_err():\n",
    "            return res\n",
    "        messages = res.unwrap()\n",
    "        try:\n",
    "            resp = self.client.chat.completions.create(\n",
    "                model=self.model,\n",
    "                messages=messages\n",
    "            )\n",
    "            return Ok(resp.choices[0].message.content.strip())\n",
    "        except Exception as e:\n",
    "            return Err(str(e))"
   ]
  },
  {
   "cell_type": "code",
   "execution_count": 13,
   "id": "e0c292a4",
   "metadata": {},
   "outputs": [],
   "source": [
    "pipeline = SyncPipeline.from_tasks(\n",
    "    [search_task, build_context_task, OpenAITask(client=LLM_CLIENT)],\n",
    "    name=\"SearchAndRespond\"\n",
    ")"
   ]
  },
  {
   "cell_type": "code",
   "execution_count": 14,
   "id": "ba9deecb",
   "metadata": {},
   "outputs": [],
   "source": [
    "def run_search_and_respond(user_query: str):\n",
    "    # Wrap the user query in Ok(...)\n",
    "    result = pipeline.run(Ok(user_query), debug=True)\n",
    "\n",
    "    if result.is_err():\n",
    "        print(\"❌ Pipeline error:\", result.err())\n",
    "    else:\n",
    "        final, trace = result.unwrap()\n",
    "        print(\"🤖 AI Response:\\n\", final, \"\\n\")\n",
    "        print(\"—-- Trace —--\")\n",
    "        print(f\"Input query: {user_query!r}\")\n",
    "        for task_name, step_res in trace:\n",
    "            print(f\"{task_name:20} → {step_res}\")"
   ]
  },
  {
   "cell_type": "code",
   "execution_count": 15,
   "id": "895535d7",
   "metadata": {},
   "outputs": [
    {
     "name": "stderr",
     "output_type": "stream",
     "text": [
      "2025-04-20 23:11:16 - neopipe.pipeline - INFO - [SearchAndRespond] Starting with 3 task(s)\n",
      "2025-04-20 23:11:16 - neopipe.pipeline - INFO - [SearchAndRespond] Task 1/3 → search_task\n",
      "2025-04-20 23:11:16 - neopipe.task - INFO - [search_task] Attempt 1 - Task ID: bd5b20c7-0dac-4a8d-820a-f23b4ea22e9d\n",
      "2025-04-20 23:11:16 - neopipe.task - INFO - [search_task] Success on attempt 1\n",
      "2025-04-20 23:11:16 - neopipe.pipeline - INFO - [SearchAndRespond] Task 2/3 → build_context_task\n",
      "2025-04-20 23:11:16 - neopipe.task - INFO - [build_context_task] Attempt 1 - Task ID: 6f4013a0-7b2e-431f-bb1e-9cb4fd03a48b\n",
      "2025-04-20 23:11:16 - neopipe.task - INFO - [build_context_task] Success on attempt 1\n",
      "2025-04-20 23:11:16 - neopipe.pipeline - INFO - [SearchAndRespond] Task 3/3 → OpenAITask\n",
      "2025-04-20 23:11:16 - neopipe.task - INFO - [OpenAITask] Attempt 1 - Task ID: b73b683b-a58e-49b6-9a34-b53c13c1216d\n",
      "2025-04-20 23:11:17 - neopipe.task - INFO - [OpenAITask] Success on attempt 1\n",
      "2025-04-20 23:11:17 - neopipe.pipeline - INFO - [SearchAndRespond] Completed successfully\n"
     ]
    },
    {
     "name": "stdout",
     "output_type": "stream",
     "text": [
      "🤖 AI Response:\n",
      " Found the following record:\n",
      "\n",
      "- \"The quick brown fox jumps over the lazy dog.\" This phrase is a well-known example in typography and typewriter tests because it contains all the letters of the English alphabet. \n",
      "\n",
      "—-- Trace —--\n",
      "Input query: 'quick'\n",
      "SearchAndRespond     → Ok('quick')\n",
      "search_task          → Ok(SearchResult(query='quick', hits=[{'id': 1, 'text': 'The quick brown fox jumps over the lazy dog'}]))\n",
      "build_context_task   → Ok([{'role': 'system', 'content': 'You are a helpful assistant that summarizes search results.'}, {'role': 'user', 'content': 'I’m looking for records containing: “quick”'}, {'role': 'assistant', 'content': 'Found 1 record(s):\\n- The quick brown fox jumps over the lazy dog'}])\n",
      "OpenAITask           → Ok('Found the following record:\\n\\n- \"The quick brown fox jumps over the lazy dog.\" This phrase is a well-known example in typography and typewriter tests because it contains all the letters of the English alphabet.')\n"
     ]
    }
   ],
   "source": [
    "q = \"quick\"\n",
    "run_search_and_respond(q)"
   ]
  }
 ],
 "metadata": {
  "kernelspec": {
   "display_name": ".venv",
   "language": "python",
   "name": "python3"
  },
  "language_info": {
   "codemirror_mode": {
    "name": "ipython",
    "version": 3
   },
   "file_extension": ".py",
   "mimetype": "text/x-python",
   "name": "python",
   "nbconvert_exporter": "python",
   "pygments_lexer": "ipython3",
   "version": "3.11.9"
  }
 },
 "nbformat": 4,
 "nbformat_minor": 5
}
