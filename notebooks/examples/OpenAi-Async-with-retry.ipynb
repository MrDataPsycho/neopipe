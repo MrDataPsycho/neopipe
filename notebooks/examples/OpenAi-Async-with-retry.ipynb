{
 "cells": [
  {
   "cell_type": "code",
   "execution_count": 1,
   "id": "90aba310",
   "metadata": {},
   "outputs": [],
   "source": [
    "from openai import AsyncAzureOpenAI\n",
    "from neopipe.result import Ok, Result, Err, ExecutionResult\n",
    "from neopipe.task import FunctionAsyncTask, ClassAsyncTask\n",
    "from neopipe.async_pipeline import AsyncPipeline\n",
    "from dotenv import load_dotenv, find_dotenv\n",
    "import os\n",
    "import logging\n",
    "# import asyncio\n",
    "import json\n",
    "from neopipe.result import Ok, Err, Result\n",
    "from typing import List\n",
    "import re"
   ]
  },
  {
   "cell_type": "code",
   "execution_count": 2,
   "id": "d1690747",
   "metadata": {},
   "outputs": [],
   "source": [
    "logging.getLogger(\"openai\").setLevel(logging.ERROR)\n",
    "logging.getLogger(\"httpx\").setLevel(logging.ERROR)\n",
    "# logging.getLogger(\"neopipe\").setLevel(logging.ERROR)"
   ]
  },
  {
   "cell_type": "code",
   "execution_count": 3,
   "id": "520c9fde",
   "metadata": {},
   "outputs": [
    {
     "data": {
      "text/plain": [
       "True"
      ]
     },
     "execution_count": 3,
     "metadata": {},
     "output_type": "execute_result"
    }
   ],
   "source": [
    "load_dotenv(find_dotenv(\"../.env\"), override=True)"
   ]
  },
  {
   "cell_type": "code",
   "execution_count": null,
   "id": "50baab3e",
   "metadata": {},
   "outputs": [],
   "source": [
    "class AsyncOpenAITask(ClassAsyncTask[List[dict], str]):\n",
    "    \"\"\"\n",
    "    Sends messages to Azure OpenAI and returns the raw assistant reply.\n",
    "    \"\"\"\n",
    "    def __init__(self, client: AsyncAzureOpenAI, model: str = \"gpt-4o\"):\n",
    "        super().__init__()\n",
    "        self.client = client\n",
    "        self.model = model\n",
    "\n",
    "    async def format_prompt(self, criterion: str) -> str:\n",
    "        \"\"\"Turn a single test criterion into a chat-messages list.\"\"\"\n",
    "        messages = [\n",
    "            {\n",
    "                \"role\": \"system\",\n",
    "                \"content\": (\n",
    "                    \"You are an expert QA engineer. \"\n",
    "                    \"Given a list of test criterion, generate a JSON test case. You always wrapt the response with a ````json ... ``` markdown fence. \"\n",
    "                    \"You shuld have only following keys in the JSON: test_id, description, steps, expected_result. \"\n",
    "                    \"The steps should be a list of strings, and the expected_result should be a string. \"\n",
    "                    \"The test_id should be a unique identifier, like 'test_001'. \"\n",
    "                    \"The description should be a short summary of the test case. \"\n",
    "                    \"The steps should be a list of actions to perform in the test case. \"\n",
    "                    \"The expected_result should be the expected outcome of the test case. \"\n",
    "                    \"You should not include any other keys or values in the JSON. \"\n",
    "                    \"You should not include any other text in the response, only the JSON. \"\n",
    "                    )\n",
    "            },\n",
    "            {\n",
    "                \"role\": \"user\",\n",
    "                \"content\": f\"Create a JSON test case for: {criterion}\"\n",
    "            }\n",
    "        ]\n",
    "        return messages\n",
    "\n",
    "    async def execute(self, res: Result[str, str]) -> Result[str, str]:\n",
    "        if res.is_err():\n",
    "            return res\n",
    "        messages = res.unwrap()\n",
    "        messages = await self.format_prompt(messages)\n",
    "        try:\n",
    "            completion = await self.client.chat.completions.create(\n",
    "                model=self.model,\n",
    "                messages=messages,\n",
    "                response_format={ \"type\": \"json_object\" },\n",
    "            )\n",
    "            # take the first choice\n",
    "            text = completion.choices[0].message.content.strip()\n",
    "            return Ok(text)\n",
    "        except Exception as e:\n",
    "            return Err(f\"OpenAI error: {e}\")"
   ]
  },
  {
   "cell_type": "code",
   "execution_count": 5,
   "id": "4b62cd67",
   "metadata": {},
   "outputs": [],
   "source": [
    "client = AsyncAzureOpenAI(\n",
    "    azure_endpoint=os.environ[\"AZURE_OPENAI_ENDPOINT\"],\n",
    "    api_key=os.environ[\"AZURE_OPENAI_API_KEY\"],\n",
    "    api_version=os.environ[\"AZURE_OPENAI_API_VERSION\"],\n",
    "    azure_deployment=os.environ[\"AZURE_OPENAI_DEPLOYMENT_NAME\"],\n",
    ")"
   ]
  },
  {
   "cell_type": "code",
   "execution_count": null,
   "id": "9595322d",
   "metadata": {},
   "outputs": [],
   "source": [
    "# ───────────────────────────────────────────────────────────────\n",
    "# 3) Run it on a batch of 5 criteria, in parallel\n",
    "# ───────────────────────────────────────────────────────────────\n",
    "\n",
    "async def main() -> ExecutionResult[List[Result[dict, str]], str]:\n",
    "    criteria = [\n",
    "        \"User login fails when password is too short\",\n",
    "        \"API returns 400 on invalid JSON body\",\n",
    "        \"Form does not submit when required fields are blank\",\n",
    "        \"Search feature returns relevant results\",\n",
    "        \"Payment checkout times out after 30 seconds\"\n",
    "    ]\n",
    "    # Wrap each criterion in an Ok(...)\n",
    "    inputs = [Ok(c) for c in criteria]\n",
    "    tasks = [AsyncOpenAITask(client, model=\"gpt-4o\") for _ in range(len(inputs))]\n",
    "    pipeline = AsyncPipeline.from_tasks(tasks=tasks)\n",
    "    # debug=True to capture per-task Trace if you like\n",
    "    exec_res = await pipeline.run(\n",
    "        inputs,\n",
    "        debug=True\n",
    "    )\n",
    "\n",
    "    if exec_res.is_err():\n",
    "        print(\"Pipeline error:\", exec_res.err())\n",
    "        return\n",
    "\n",
    "    # exec_res.result is List[Result[dict, str]]\n",
    "    for idx, res in enumerate(exec_res.result, 1):\n",
    "        if res.is_ok():\n",
    "            print(f\"\\n📄 Test case {idx}:\\n\", json.dumps(res.unwrap(), indent=2))\n",
    "        else:\n",
    "            print(f\"\\n❌ Failed to generate test {idx}:\", res.err())\n",
    "    return exec_res.unwrap()"
   ]
  },
  {
   "cell_type": "code",
   "execution_count": 8,
   "id": "eaeb3c27",
   "metadata": {},
   "outputs": [
    {
     "name": "stderr",
     "output_type": "stream",
     "text": [
      "2025-05-28 17:18:04 - neopipe.task - INFO - [AsyncOpenAITask] Attempt 1 - Task ID: 0ccf2aa8-e13f-482a-b8c6-0ed33e4577b8\n",
      "2025-05-28 17:18:04 - neopipe.task - INFO - [AsyncOpenAITask] Attempt 1 - Task ID: 17425a41-2219-485f-94fa-dd0a3d495eb2\n",
      "2025-05-28 17:18:04 - neopipe.task - INFO - [AsyncOpenAITask] Attempt 1 - Task ID: 229c01dd-a041-479c-a788-b3bc00cd5a78\n",
      "2025-05-28 17:18:04 - neopipe.task - INFO - [AsyncOpenAITask] Attempt 1 - Task ID: 5f6a877f-6b13-498d-8b54-7d3e0204b21c\n",
      "2025-05-28 17:18:04 - neopipe.task - INFO - [AsyncOpenAITask] Attempt 1 - Task ID: eacd3ac7-408f-4aec-82bb-f50bd48d0c06\n",
      "2025-05-28 17:18:05 - neopipe.task - INFO - [AsyncOpenAITask] Success on attempt 1 - Task ID: 229c01dd-a041-479c-a788-b3bc00cd5a78\n",
      "2025-05-28 17:18:05 - neopipe.task - INFO - [AsyncOpenAITask] Success on attempt 1 - Task ID: 5f6a877f-6b13-498d-8b54-7d3e0204b21c\n",
      "2025-05-28 17:18:05 - neopipe.task - INFO - [AsyncOpenAITask] Success on attempt 1 - Task ID: eacd3ac7-408f-4aec-82bb-f50bd48d0c06\n",
      "2025-05-28 17:18:05 - neopipe.task - INFO - [AsyncOpenAITask] Success on attempt 1 - Task ID: 0ccf2aa8-e13f-482a-b8c6-0ed33e4577b8\n",
      "2025-05-28 17:18:05 - neopipe.task - INFO - [AsyncOpenAITask] Success on attempt 1 - Task ID: 17425a41-2219-485f-94fa-dd0a3d495eb2\n"
     ]
    },
    {
     "name": "stdout",
     "output_type": "stream",
     "text": [
      "\n",
      "📄 Test case 1:\n",
      " \"{\\n      \\\"test_id\\\": \\\"test_001\\\",\\n      \\\"description\\\": \\\"User login fails when password is too short\\\",\\n      \\\"steps\\\": [\\n        \\\"Navigate to the login page\\\",\\n        \\\"Enter a valid username\\\",\\n        \\\"Enter a password with less than the minimum required characters\\\",\\n        \\\"Click on the login button\\\"\\n      ],\\n      \\\"expected_result\\\": \\\"The login attempt fails and an error message indicating the password is too short is displayed\\\"\\n    }\"\n",
      "\n",
      "📄 Test case 2:\n",
      " \"{\\n      \\\"test_id\\\": \\\"test_001\\\",\\n      \\\"description\\\": \\\"API returns 400 on invalid JSON body\\\",\\n      \\\"steps\\\": [\\n        \\\"Send a POST request to the API endpoint with an invalid JSON body.\\\",\\n        \\\"Ensure that the 'Content-Type' header is set to 'application/json'.\\\",\\n        \\\"Observe the response status code and response body.\\\"\\n      ],\\n      \\\"expected_result\\\": \\\"API returns a 400 Bad Request status code and an error message indicating the JSON body is invalid.\\\"\\n    }\"\n",
      "\n",
      "📄 Test case 3:\n",
      " \"{\\n  \\\"test_id\\\": \\\"test_001\\\",\\n  \\\"description\\\": \\\"Form does not submit when required fields are blank\\\",\\n  \\\"steps\\\": [\\n    \\\"Navigate to the form page\\\",\\n    \\\"Leave all required fields blank\\\",\\n    \\\"Attempt to submit the form\\\"\\n  ],\\n  \\\"expected_result\\\": \\\"Form submission fails and a validation message is displayed indicating that required fields must be filled\\\"\\n}\"\n",
      "\n",
      "📄 Test case 4:\n",
      " \"{\\n      \\\"test_id\\\": \\\"test_001\\\",\\n      \\\"description\\\": \\\"Search feature returns relevant results\\\",\\n      \\\"steps\\\": [\\n        \\\"Open the application\\\",\\n        \\\"Navigate to the search bar\\\",\\n        \\\"Enter a search term\\\",\\n        \\\"Press the search button\\\"\\n      ],\\n      \\\"expected_result\\\": \\\"The search feature returns results relevant to the entered search term\\\"\\n    }\"\n",
      "\n",
      "📄 Test case 5:\n",
      " \"{\\n      \\\"test_id\\\": \\\"test_001\\\",\\n      \\\"description\\\": \\\"Payment checkout times out after 30 seconds\\\",\\n      \\\"steps\\\": [\\n        \\\"Initiate payment checkout process\\\",\\n        \\\"Wait for 30 seconds\\\",\\n        \\\"Observe the payment process\\\"\\n      ],\\n      \\\"expected_result\\\": \\\"Payment checkout times out after 30 seconds\\\"\\n    }\"\n"
     ]
    }
   ],
   "source": [
    "result_ai_call = await main()"
   ]
  },
  {
   "cell_type": "markdown",
   "id": "3df69422",
   "metadata": {},
   "source": [
    "# Now Lets slap Another Pipelin on top of this Pipeline\n",
    "The goal of this pipeline to take the output of the previous pipeline and apply a new transformation to it.\n"
   ]
  },
  {
   "cell_type": "code",
   "execution_count": 9,
   "id": "8126174b",
   "metadata": {},
   "outputs": [],
   "source": [
    "@FunctionAsyncTask.decorator()\n",
    "async def parse_json(res: Result[str, str]) -> Result[dict, str]:\n",
    "    \"\"\"\n",
    "    Parse out a JSON object from a possibly fenced text block and return it.\n",
    "\n",
    "    This will look for a Markdown-style fence:\n",
    "    ```json\n",
    "    { ... }\n",
    "    ```\n",
    "    and extract the `{ ... }` portion before loading. Falls back to\n",
    "    trying to load the entire string if no fence is found.\n",
    "\n",
    "    Args:\n",
    "        res: A Result wrapping the raw assistant reply (string).\n",
    "\n",
    "    Returns:\n",
    "        Ok(dict): on successful JSON parsing.\n",
    "        Err(str): on parse failure or if input was Err.\n",
    "    \"\"\"\n",
    "    if res.is_err():\n",
    "        return res\n",
    "\n",
    "    raw = res.unwrap()\n",
    "    try:\n",
    "        data = json.loads(raw)\n",
    "        return Ok(data)\n",
    "\n",
    "\n",
    "    except Exception as e:\n",
    "        logging.info(f\"JSON parse error: {e} in text: {raw}\")\n",
    "        return Err(f\"JSON parse error: {e}\")"
   ]
  },
  {
   "cell_type": "code",
   "execution_count": 10,
   "id": "4061408f",
   "metadata": {},
   "outputs": [
    {
     "name": "stderr",
     "output_type": "stream",
     "text": [
      "2025-05-28 17:18:28 - neopipe.task - INFO - [parse_json] Attempt 1 - Task ID: affaec01-5c26-402b-a124-966902f715bb\n",
      "2025-05-28 17:18:28 - neopipe.task - INFO - [parse_json] Success on attempt 1 - Task ID: affaec01-5c26-402b-a124-966902f715bb\n"
     ]
    },
    {
     "name": "stdout",
     "output_type": "stream",
     "text": [
      "Parsed JSON: {'test_id': 'test_001', 'description': 'User login fails when password is too short', 'steps': ['Navigate to the login page', 'Enter a valid username', 'Enter a password with less than the minimum required characters', 'Click on the login button'], 'expected_result': 'The login attempt fails and an error message indicating the password is too short is displayed'}\n"
     ]
    }
   ],
   "source": [
    "# basic test\n",
    "async def test_parse_json(input: Result[str, str]) -> None:\n",
    "    test_input = input\n",
    "    \n",
    "    result = await parse_json(test_input)\n",
    "    \n",
    "    if result.is_ok():\n",
    "        print(\"Parsed JSON:\", result.unwrap())\n",
    "    else:\n",
    "        print(\"Error parsing JSON:\", result.err())\n",
    "\n",
    "# Run the test\n",
    "await test_parse_json(result_ai_call[0])"
   ]
  },
  {
   "cell_type": "code",
   "execution_count": 40,
   "id": "d3df287e",
   "metadata": {},
   "outputs": [
    {
     "name": "stderr",
     "output_type": "stream",
     "text": [
      "2025-05-28 16:31:21 - neopipe.task - INFO - [parse_json] Attempt 1 - Task ID: f2718879-d29b-4952-96f2-7bacbf3081d3\n",
      "2025-05-28 16:31:21 - neopipe.task - INFO - [parse_json] Success on attempt 1\n"
     ]
    },
    {
     "name": "stdout",
     "output_type": "stream",
     "text": [
      "Parsed JSON: {'test_id': 'test_001', 'description': 'Search feature returns relevant results', 'steps': ['Navigate to the search bar', 'Enter a search query', 'Click the search button', 'Review the search results'], 'expected_result': 'Search results are relevant to the search query entered'}\n"
     ]
    }
   ],
   "source": [
    "await test_parse_json(result_ai_call[3])"
   ]
  },
  {
   "cell_type": "code",
   "execution_count": 11,
   "id": "ed9f97e7",
   "metadata": {},
   "outputs": [
    {
     "name": "stderr",
     "output_type": "stream",
     "text": [
      "2025-05-28 17:18:36 - neopipe.task - INFO - [parse_json] Attempt 1 - Task ID: affaec01-5c26-402b-a124-966902f715bb\n",
      "2025-05-28 17:18:36 - neopipe.task - INFO - [parse_json] Success on attempt 1 - Task ID: affaec01-5c26-402b-a124-966902f715bb\n",
      "2025-05-28 17:18:36 - neopipe.task - INFO - [parse_json] Attempt 1 - Task ID: affaec01-5c26-402b-a124-966902f715bb\n",
      "2025-05-28 17:18:36 - neopipe.task - INFO - [parse_json] Success on attempt 1 - Task ID: affaec01-5c26-402b-a124-966902f715bb\n",
      "2025-05-28 17:18:36 - neopipe.task - INFO - [parse_json] Attempt 1 - Task ID: affaec01-5c26-402b-a124-966902f715bb\n",
      "2025-05-28 17:18:36 - neopipe.task - INFO - [parse_json] Success on attempt 1 - Task ID: affaec01-5c26-402b-a124-966902f715bb\n",
      "2025-05-28 17:18:36 - neopipe.task - INFO - [parse_json] Attempt 1 - Task ID: affaec01-5c26-402b-a124-966902f715bb\n",
      "2025-05-28 17:18:36 - neopipe.task - INFO - [parse_json] Success on attempt 1 - Task ID: affaec01-5c26-402b-a124-966902f715bb\n",
      "2025-05-28 17:18:36 - neopipe.task - INFO - [parse_json] Attempt 1 - Task ID: affaec01-5c26-402b-a124-966902f715bb\n",
      "2025-05-28 17:18:36 - neopipe.task - INFO - [parse_json] Success on attempt 1 - Task ID: affaec01-5c26-402b-a124-966902f715bb\n"
     ]
    },
    {
     "name": "stdout",
     "output_type": "stream",
     "text": [
      "\n",
      "📄 Parsed Test case 1:\n",
      " {'test_id': 'test_001', 'description': 'User login fails when password is too short', 'steps': ['Navigate to the login page', 'Enter a valid username', 'Enter a password with less than the minimum required characters', 'Click on the login button'], 'expected_result': 'The login attempt fails and an error message indicating the password is too short is displayed'}\n",
      "\n",
      "📄 Parsed Test case 2:\n",
      " {'test_id': 'test_001', 'description': 'API returns 400 on invalid JSON body', 'steps': ['Send a POST request to the API endpoint with an invalid JSON body.', \"Ensure that the 'Content-Type' header is set to 'application/json'.\", 'Observe the response status code and response body.'], 'expected_result': 'API returns a 400 Bad Request status code and an error message indicating the JSON body is invalid.'}\n",
      "\n",
      "📄 Parsed Test case 3:\n",
      " {'test_id': 'test_001', 'description': 'Form does not submit when required fields are blank', 'steps': ['Navigate to the form page', 'Leave all required fields blank', 'Attempt to submit the form'], 'expected_result': 'Form submission fails and a validation message is displayed indicating that required fields must be filled'}\n",
      "\n",
      "📄 Parsed Test case 4:\n",
      " {'test_id': 'test_001', 'description': 'Search feature returns relevant results', 'steps': ['Open the application', 'Navigate to the search bar', 'Enter a search term', 'Press the search button'], 'expected_result': 'The search feature returns results relevant to the entered search term'}\n",
      "\n",
      "📄 Parsed Test case 5:\n",
      " {'test_id': 'test_001', 'description': 'Payment checkout times out after 30 seconds', 'steps': ['Initiate payment checkout process', 'Wait for 30 seconds', 'Observe the payment process'], 'expected_result': 'Payment checkout times out after 30 seconds'}\n"
     ]
    }
   ],
   "source": [
    "# Pipeline to parse the AI-generated JSON\n",
    "parse_json_task = [parse_json for _ in range(len(result_ai_call))]\n",
    "pipeline_parse = AsyncPipeline.from_tasks(tasks=parse_json_task)\n",
    "# Run the parsing pipeline\n",
    "exec_parse_res = await pipeline_parse.run(\n",
    "    result_ai_call,\n",
    "    debug=False\n",
    ")\n",
    "if exec_parse_res.is_err():\n",
    "    print(\"Parsing pipeline has error error.\")\n",
    "# Print the parsed results\n",
    "for idx, res in enumerate(exec_parse_res.result, 1):\n",
    "    if res.is_ok():\n",
    "        print(f\"\\n📄 Parsed Test case {idx}:\\n\", res.unwrap())\n",
    "    else:\n",
    "        print(f\"\\n❌ Failed to parse test {idx}:\", res.err())"
   ]
  },
  {
   "cell_type": "code",
   "execution_count": 22,
   "id": "eec09684",
   "metadata": {},
   "outputs": [
    {
     "name": "stdout",
     "output_type": "stream",
     "text": [
      "ExecutionResult(result=[Ok({'test_id': 'test_001', 'description': 'User login fails when password is too short', 'steps': ['Navigate to the login page', 'Enter a valid username', 'Enter a password with less than the minimum required characters', 'Click on the login button'], 'expected_result': 'The login attempt fails and an error message indicating the password is too short is displayed'}), Ok({'test_id': 'test_001', 'description': 'API returns 400 on invalid JSON body', 'steps': ['Send a POST request to the API endpoint with an invalid JSON body.', \"Ensure that the 'Content-Type' header is set to 'application/json'.\", 'Observe the response status code and response body.'], 'expected_result': 'API returns a 400 Bad Request status code and an error message indicating the JSON body is invalid.'}), Ok({'test_id': 'test_001', 'description': 'Form does not submit when required fields are blank', 'steps': ['Navigate to the form page', 'Leave all required fields blank', 'Attempt to submit the form'], 'expected_result': 'Form submission fails and a validation message is displayed indicating that required fields must be filled'}), Ok({'test_id': 'test_001', 'description': 'Search feature returns relevant results', 'steps': ['Open the application', 'Navigate to the search bar', 'Enter a search term', 'Press the search button'], 'expected_result': 'The search feature returns results relevant to the entered search term'}), Ok({'test_id': 'test_001', 'description': 'Payment checkout times out after 30 seconds', 'steps': ['Initiate payment checkout process', 'Wait for 30 seconds', 'Observe the payment process'], 'expected_result': 'Payment checkout times out after 30 seconds'})], execution_time=0.018s)\n"
     ]
    }
   ],
   "source": [
    "print(exec_parse_res)"
   ]
  },
  {
   "cell_type": "markdown",
   "id": "3c9ea84e",
   "metadata": {},
   "source": [
    "# Combined Async Task in Sequence and then Run each In parallel\n",
    "Now lets combine to task in sequence to create a sequecial pipeline and then run each task in parallel."
   ]
  },
  {
   "cell_type": "code",
   "execution_count": 12,
   "id": "17c9249b",
   "metadata": {},
   "outputs": [],
   "source": [
    "criteria = [\n",
    "        \"User login fails when password is too short\",\n",
    "        \"API returns 400 on invalid JSON body\",\n",
    "        \"Form does not submit when required fields are blank\",\n",
    "        \"Search feature returns relevant results\",\n",
    "        \"Payment checkout times out after 30 seconds\"\n",
    "    ]"
   ]
  },
  {
   "cell_type": "code",
   "execution_count": 13,
   "id": "5436601c",
   "metadata": {},
   "outputs": [],
   "source": [
    "seq_inputs = [Ok(c) for c in criteria]"
   ]
  },
  {
   "cell_type": "code",
   "execution_count": null,
   "id": "36b93a67",
   "metadata": {},
   "outputs": [],
   "source": [
    "pipeline_unit = AsyncPipeline.from_tasks([\n",
    "    AsyncOpenAITask(client, model=\"gpt-4o\")],\n",
    "    parse_json\n",
    ")"
   ]
  },
  {
   "cell_type": "code",
   "execution_count": null,
   "id": "5d980563",
   "metadata": {},
   "outputs": [],
   "source": [
    "multi_task_pipelines = [pipeline_unit for _ in range(len(seq_inputs))]"
   ]
  },
  {
   "cell_type": "code",
   "execution_count": 26,
   "id": "4c4aa345",
   "metadata": {},
   "outputs": [
    {
     "name": "stderr",
     "output_type": "stream",
     "text": [
      "2025-05-29 17:42:40 - neopipe.task - INFO - [AsyncOpenAITask] Attempt 1 - Task ID: ba9c1cd5-834e-48b2-8878-d959cf54df3c\n",
      "2025-05-29 17:42:40 - neopipe.task - INFO - [AsyncOpenAITask] Attempt 1 - Task ID: d801faa4-fa01-45b8-8bdf-1154ffc99a31\n",
      "2025-05-29 17:42:40 - neopipe.task - INFO - [AsyncOpenAITask] Attempt 1 - Task ID: 62279e60-e9fc-49b4-9134-389a3813377e\n",
      "2025-05-29 17:42:40 - neopipe.task - INFO - [AsyncOpenAITask] Attempt 1 - Task ID: 9c2eff29-3aad-4c07-9cac-c5e11c3e8a77\n",
      "2025-05-29 17:42:40 - neopipe.task - INFO - [AsyncOpenAITask] Attempt 1 - Task ID: b1b744f2-5162-4c3c-92bd-dd9f5ea352f8\n",
      "2025-05-29 17:42:41 - neopipe.task - INFO - [AsyncOpenAITask] Success on attempt 1 - Task ID: 62279e60-e9fc-49b4-9134-389a3813377e\n",
      "2025-05-29 17:42:41 - neopipe.task - INFO - [AsyncOpenAITask] Success on attempt 1 - Task ID: 9c2eff29-3aad-4c07-9cac-c5e11c3e8a77\n",
      "2025-05-29 17:42:41 - neopipe.task - INFO - [AsyncOpenAITask] Success on attempt 1 - Task ID: d801faa4-fa01-45b8-8bdf-1154ffc99a31\n",
      "2025-05-29 17:42:41 - neopipe.task - INFO - [AsyncOpenAITask] Success on attempt 1 - Task ID: ba9c1cd5-834e-48b2-8878-d959cf54df3c\n",
      "2025-05-29 17:42:42 - neopipe.task - INFO - [AsyncOpenAITask] Success on attempt 1 - Task ID: b1b744f2-5162-4c3c-92bd-dd9f5ea352f8\n"
     ]
    }
   ],
   "source": [
    "parallel_result = await AsyncPipeline.run_parallel(\n",
    "    pipelines=multi_task_pipelines,\n",
    "    inputs=seq_inputs,\n",
    "    debug=False\n",
    ")"
   ]
  },
  {
   "cell_type": "code",
   "execution_count": 27,
   "id": "bb1764d1",
   "metadata": {},
   "outputs": [
    {
     "data": {
      "text/plain": [
       "[Ok('{\\n      \"test_id\": \"test_001\",\\n      \"description\": \"User login fails when password is too short\",\\n      \"steps\": [\\n        \"Navigate to the login page\",\\n        \"Enter a valid username in the username field\",\\n        \"Enter a password shorter than the required minimum length in the password field\",\\n        \"Click the \\'Login\\' button\"\\n      ],\\n      \"expected_result\": \"The login attempt should fail and the user should see an error message indicating that the password is too short.\"\\n    }'),\n",
       " Ok('{\\n      \"test_id\": \"test_001\",\\n      \"description\": \"API returns 400 on invalid JSON body\",\\n      \"steps\": [\\n        \"Send a POST request to the API endpoint with an invalid JSON body\",\\n        \"Observe the response status code\"\\n      ],\\n      \"expected_result\": \"The API should return a 400 status code indicating a bad request\"\\n    }'),\n",
       " Ok('{\\n        \"test_id\": \"test_001\",\\n        \"description\": \"Form does not submit when required fields are blank\",\\n        \"steps\": [\\n            \"Open the form page.\",\\n            \"Leave required fields blank.\",\\n            \"Click the submit button.\"\\n        ],\\n        \"expected_result\": \"The form should not submit and display validation messages for the required fields.\"\\n    }'),\n",
       " Ok('{\\n      \"test_id\": \"test_001\",\\n      \"description\": \"Search feature returns relevant results\",\\n      \"steps\": [\\n        \"Navigate to the search page\",\\n        \"Enter a search query into the search bar\",\\n        \"Click on the search button\",\\n        \"Observe the displayed search results\"\\n      ],\\n      \"expected_result\": \"The search results should be relevant to the entered search query\"\\n    }'),\n",
       " Ok('{\\n      \"test_id\": \"test_001\",\\n      \"description\": \"Payment checkout times out after 30 seconds\",\\n      \"steps\": [\\n        \"Navigate to the checkout page\",\\n        \"Initiate payment process\",\\n        \"Wait for 30 seconds without any interaction\"\\n      ],\\n      \"expected_result\": \"Payment process times out after 30 seconds\"\\n    }')]"
      ]
     },
     "execution_count": 27,
     "metadata": {},
     "output_type": "execute_result"
    }
   ],
   "source": [
    "parallel_result.unwrap()"
   ]
  },
  {
   "cell_type": "markdown",
   "id": "c23a670d",
   "metadata": {},
   "source": [
    "# Some Issues\n",
    "If we create one pipeline and run it in parallel, it produce single id for all tasks so we should create task/pipeline on the fly or create a func that create pipeline on the fly."
   ]
  },
  {
   "cell_type": "code",
   "execution_count": null,
   "id": "6b758ff7",
   "metadata": {},
   "outputs": [],
   "source": [
    "def get_unit_pipeline():\n",
    "    pipeline_unit = AsyncPipeline.from_tasks([\n",
    "        AsyncOpenAITask(client, model=\"gpt-4o\")],\n",
    "        parse_json\n",
    "        )\n",
    "    return pipeline_unit"
   ]
  },
  {
   "cell_type": "code",
   "execution_count": null,
   "id": "f9e3f18a",
   "metadata": {},
   "outputs": [],
   "source": [
    "input_tests = [[{}, {}, {}], [{}, {}, {}], [{}, {}, {}], [{}, {}, {}], [{}, {}, {}]]"
   ]
  },
  {
   "cell_type": "code",
   "execution_count": null,
   "id": "210808dd",
   "metadata": {},
   "outputs": [],
   "source": [
    "class AsyncGenerateTestCasesTask(ClassAsyncTask[List[dict], str]):\n",
    "    \"\"\"\n",
    "    Sends messages to Azure OpenAI and returns the raw assistant reply.\n",
    "    \"\"\"\n",
    "    def __init__(self, client: AsyncAzureOpenAI, model: str = \"gpt-4o\", system_prompt: str = None, user_prompt: str = None):\n",
    "        super().__init__()\n",
    "        self.client = client\n",
    "        self.model = model\n",
    "        self.system_prompt = system_prompt\n",
    "        self.user_prompt = user_prompt\n",
    "    \n",
    "    async def check_correctness(self) -> bool:\n",
    "        ...\n",
    "\n",
    "\n",
    "    async def format_llm_request(self, criterion: list[dict]) -> str:\n",
    "        \"\"\"Turn a single test criterion into a chat-messages list.\"\"\"\n",
    "        \n",
    "        ...\n",
    "\n",
    "    async def execute(self, res: Result[list[dict], str]) -> Result[list[dict], str]:\n",
    "        ...\n",
    "        # Step 1 create Context for the LLM: format_llm_request(res)\n",
    "        # Step 2: with some retry in a 4 loop call the \n",
    "            # response = (api call)\n",
    "            # check_correctness(response) 3 send 3 came back then break the retry\n",
    "            # Else try again"
   ]
  },
  {
   "cell_type": "code",
   "execution_count": null,
   "id": "f8cfdb64",
   "metadata": {},
   "outputs": [],
   "source": [
    "@FunctionAsyncTask.decorator()\n",
    "async def parse_json(res: Result[list[dict], str]) -> Result[list[dict], str]:\n",
    "    \"\"\"\n",
    "    Parse out a JSON object from a possibly fenced text block and return it.\n",
    "\n",
    "    This will look for a Markdown-style fence:\n",
    "    ```json\n",
    "    { ... }\n",
    "    ```\n",
    "    and extract the `{ ... }` portion before loading. Falls back to\n",
    "    trying to load the entire string if no fence is found.\n",
    "\n",
    "    Args:\n",
    "        res: A Result wrapping the raw assistant reply (string).\n",
    "\n",
    "    Returns:\n",
    "        Ok(dict): on successful JSON parsing.\n",
    "        Err(str): on parse failure or if input was Err.\n",
    "    \"\"\"\n",
    "    ..."
   ]
  },
  {
   "cell_type": "code",
   "execution_count": null,
   "id": "7f932511",
   "metadata": {},
   "outputs": [],
   "source": [
    "input_tests = [Ok(c) for c in input_tests]"
   ]
  },
  {
   "cell_type": "code",
   "execution_count": null,
   "id": "4cb55b48",
   "metadata": {},
   "outputs": [],
   "source": [
    "def get_unit_pipeline():\n",
    "    pipeline_unit = AsyncPipeline.from_tasks([\n",
    "        AsyncOpenAITask(client, model=\"gpt-4o\")],\n",
    "        parse_json\n",
    "        )\n",
    "    return pipeline_unit"
   ]
  },
  {
   "cell_type": "code",
   "execution_count": null,
   "id": "c6e8cdd8",
   "metadata": {},
   "outputs": [],
   "source": [
    "multi_task_pipelines = [pipeline_unit for _ in range(len(input_tests))]"
   ]
  },
  {
   "cell_type": "code",
   "execution_count": null,
   "id": "86caab34",
   "metadata": {},
   "outputs": [],
   "source": [
    "parallel_result = await AsyncPipeline.run_parallel(\n",
    "    pipelines=multi_task_pipelines,\n",
    "    inputs=input_tests,\n",
    "    debug=False\n",
    ")"
   ]
  }
 ],
 "metadata": {
  "kernelspec": {
   "display_name": ".venv",
   "language": "python",
   "name": "python3"
  },
  "language_info": {
   "codemirror_mode": {
    "name": "ipython",
    "version": 3
   },
   "file_extension": ".py",
   "mimetype": "text/x-python",
   "name": "python",
   "nbconvert_exporter": "python",
   "pygments_lexer": "ipython3",
   "version": "3.11.9"
  }
 },
 "nbformat": 4,
 "nbformat_minor": 5
}
